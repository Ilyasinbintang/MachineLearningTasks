{
  "nbformat": 4,
  "nbformat_minor": 0,
  "metadata": {
    "colab": {
      "provenance": [],
      "authorship_tag": "ABX9TyNhHcXTlJ3FkrUJucIe6/Wg",
      "include_colab_link": true
    },
    "kernelspec": {
      "name": "python3",
      "display_name": "Python 3"
    },
    "language_info": {
      "name": "python"
    }
  },
  "cells": [
    {
      "cell_type": "markdown",
      "metadata": {
        "id": "view-in-github",
        "colab_type": "text"
      },
      "source": [
        "<a href=\"https://colab.research.google.com/github/Ilyasinbintang/MachineLearningTasks/blob/main/1stWeekTasks/Decision_Tree_Bintang.ipynb\" target=\"_parent\"><img src=\"https://colab.research.google.com/assets/colab-badge.svg\" alt=\"Open In Colab\"/></a>"
      ]
    },
    {
      "cell_type": "markdown",
      "source": [
        "Nama : Ilyasin Bintang Anugrah\n",
        "Nim  : 1103228242\n",
        "Dataset: melb_house.csv\n",
        "Overview :"
      ],
      "metadata": {
        "id": "TnEfyY0yXWOe"
      }
    },
    {
      "cell_type": "code",
      "source": [
        "import pandas as pd\n",
        "from sklearn.model_selection import train_test_split\n",
        "from sklearn.tree import DecisionTreeRegressor\n",
        "from sklearn.metrics import mean_squared_error\n",
        "from sklearn.impute import SimpleImputer\n",
        "\n",
        "# Baca data dari file CSV\n",
        "url = \"/content/drive/MyDrive/DATASET/melb_data.csv\"\n",
        "data = pd.read_csv(url)\n",
        "\n",
        "# Pisahkan fitur dan target\n",
        "X = data.drop(['Address', 'Price'], axis=1)   # Fitur (hilangkan 'Address' dan 'Price')\n",
        "y = data['Price'] # Target\n",
        "\n",
        "# Lakukan one-hot encoding pada kolom kategorikal\n",
        "X = pd.get_dummies(X, drop_first=True)\n",
        "\n",
        "# Bagi data menjadi data latih dan data uji\n",
        "X_train, X_test, y_train, y_test = train_test_split(X, y, test_size=0.2, random_state=42)\n",
        "\n",
        "# Imputasi nilai-nilai yang hilang\n",
        "imputer = SimpleImputer(strategy='mean')\n",
        "X_train_imputed = imputer.fit_transform(X_train)\n",
        "X_test_imputed = imputer.transform(X_test)\n",
        "\n",
        "# Buat model Decision Tree\n",
        "model = DecisionTreeRegressor(random_state=42)\n",
        "\n",
        "# Latih model pada data latih yang sudah diimputasi\n",
        "model.fit(X_train_imputed, y_train)\n",
        "\n",
        "# Lakukan prediksi pada data uji yang sudah diimputasi\n",
        "y_pred = model.predict(X_test_imputed)\n",
        "\n",
        "# Evaluasi model\n",
        "mse = mean_squared_error(y_test, y_pred)\n",
        "print(\"Mean Squared Error:\", mse)"
      ],
      "metadata": {
        "id": "3xa4W18oYD4q",
        "colab": {
          "base_uri": "https://localhost:8080/"
        },
        "outputId": "36e3da7e-4b3f-432f-9c01-72378120131b"
      },
      "execution_count": 1,
      "outputs": [
        {
          "output_type": "stream",
          "name": "stdout",
          "text": [
            "Mean Squared Error: 182785663572.85544\n"
          ]
        }
      ]
    },
    {
      "cell_type": "markdown",
      "source": [],
      "metadata": {
        "id": "XOAm3Zz7XRET"
      }
    }
  ]
}
