{
  "nbformat": 4,
  "nbformat_minor": 0,
  "metadata": {
    "colab": {
      "provenance": []
    },
    "kernelspec": {
      "name": "python3",
      "display_name": "Python 3"
    },
    "language_info": {
      "name": "python"
    }
  },
  "cells": [
    {
      "cell_type": "markdown",
      "source": [
        "ILYASIN BINTANG ANUGRAH\n",
        "1103228242\n",
        "TUGAS LOGISTIC REGRESSION"
      ],
      "metadata": {
        "id": "Ttd1ZIywVlZ2"
      }
    },
    {
      "cell_type": "code",
      "execution_count": 1,
      "metadata": {
        "colab": {
          "base_uri": "https://localhost:8080/"
        },
        "id": "OqB8vIMoVNaE",
        "outputId": "47e8aa70-acab-4828-dfd9-c6d0a5b332c0"
      },
      "outputs": [
        {
          "output_type": "stream",
          "name": "stdout",
          "text": [
            "Akurasi model: 100.00%\n"
          ]
        }
      ],
      "source": [
        "# Impor library yang diperlukan\n",
        "import numpy as np\n",
        "from sklearn.datasets import load_iris\n",
        "from sklearn.model_selection import train_test_split\n",
        "from sklearn.preprocessing import StandardScaler\n",
        "from sklearn.linear_model import LogisticRegression\n",
        "from sklearn.metrics import accuracy_score\n",
        "\n",
        "# Load dataset Iris\n",
        "iris = load_iris()\n",
        "X, y = iris.data, iris.target\n",
        "\n",
        "# Pisahkan data menjadi data latih dan data uji\n",
        "X_train, X_test, y_train, y_test = train_test_split(X, y, test_size=0.2, random_state=42)\n",
        "\n",
        "# Normalisasi fitur\n",
        "scaler = StandardScaler()\n",
        "X_train = scaler.fit_transform(X_train)\n",
        "X_test = scaler.transform(X_test)\n",
        "\n",
        "# Inisialisasi model Regresi Logistik\n",
        "model = LogisticRegression()\n",
        "\n",
        "# Latih model pada data latih\n",
        "model.fit(X_train, y_train)\n",
        "\n",
        "# Prediksi kelas pada data uji\n",
        "y_pred = model.predict(X_test)\n",
        "\n",
        "# Evaluasi akurasi model\n",
        "accuracy = accuracy_score(y_test, y_pred)\n",
        "print(\"Akurasi model: {:.2f}%\".format(accuracy * 100))\n"
      ]
    }
  ]
}